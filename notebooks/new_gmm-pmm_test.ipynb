{
 "cells": [
  {
   "cell_type": "code",
   "execution_count": 24,
   "metadata": {},
   "outputs": [],
   "source": [
    "using Pkg\n",
    "using LinearAlgebra\n",
    "using Random\n",
    "using StatsBase\n"
   ]
  },
  {
   "cell_type": "code",
   "execution_count": 25,
   "metadata": {},
   "outputs": [
    {
     "ename": "LoadError",
     "evalue": "LoadError: cannot assign a value to imported variable Distributions.MixtureModel from module Main\nin expression starting at /Users/jamesfourie/Documents/GitHub/StateSpaceDynamics.jl/src/MixtureModels.jl:48",
     "output_type": "error",
     "traceback": [
      "LoadError: cannot assign a value to imported variable Distributions.MixtureModel from module Main\nin expression starting at /Users/jamesfourie/Documents/GitHub/StateSpaceDynamics.jl/src/MixtureModels.jl:48",
      "",
      "Stacktrace:",
      " [1] top-level scope",
      "   @ ~/Documents/GitHub/StateSpaceDynamics.jl/src/MixtureModels.jl:48",
      " [2] include(fname::String)",
      "   @ Base.MainInclude ./client.jl:489",
      " [3] top-level scope",
      "   @ In[25]:1"
     ]
    }
   ],
   "source": [
    "include(\"../src/MixtureModels.jl\")\n",
    "include(\"../test/GaussianMixtureModel.jl\")\n",
    "include(\"../test/PoissonMixtureModel.jl\")"
   ]
  },
  {
   "cell_type": "code",
   "execution_count": 12,
   "metadata": {},
   "outputs": [
    {
     "data": {
      "text/plain": [
       "\"/Users/jamesfourie/Documents/GitHub/StateSpaceDynamics.jl/notebooks\""
      ]
     },
     "execution_count": 12,
     "metadata": {},
     "output_type": "execute_result"
    }
   ],
   "source": [
    "pwd()"
   ]
  },
  {
   "cell_type": "code",
   "execution_count": 2,
   "metadata": {},
   "outputs": [
    {
     "ename": "LoadError",
     "evalue": "UndefVarError: `Random` not defined",
     "output_type": "error",
     "traceback": [
      "UndefVarError: `Random` not defined",
      "",
      "Stacktrace:",
      " [1] top-level scope",
      "   @ In[2]:1"
     ]
    }
   ],
   "source": [
    "Random.seed!(1224)"
   ]
  }
 ],
 "metadata": {
  "kernelspec": {
   "display_name": "Julia 1.10.5",
   "language": "julia",
   "name": "julia-1.10"
  },
  "language_info": {
   "file_extension": ".jl",
   "mimetype": "application/julia",
   "name": "julia",
   "version": "1.10.5"
  },
  "orig_nbformat": 4,
  "vscode": {
   "interpreter": {
    "hash": "4c984aae39f9b63f29ed0fb7cd34d780f5f68de00193e63aeb21699a2279943c"
   }
  }
 },
 "nbformat": 4,
 "nbformat_minor": 2
}
